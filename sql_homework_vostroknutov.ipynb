{
  "cells": [
    {
      "cell_type": "markdown",
      "id": "42289889-bd57-434e-9637-d3e354756316",
      "metadata": {
        "id": "42289889-bd57-434e-9637-d3e354756316"
      },
      "source": [
        "<center> <img src = https://raw.githubusercontent.com/AndreyRysistov/DatasetsForPandas/main/hh%20label.jpg alt=\"drawing\" style=\"width:400px;\">"
      ]
    },
    {
      "cell_type": "markdown",
      "id": "829cb75b-f14e-4ba8-9195-7ba929a7d656",
      "metadata": {
        "id": "829cb75b-f14e-4ba8-9195-7ba929a7d656",
        "tags": []
      },
      "source": [
        "# Проект «Анализ вакансий из HeadHunter»\n",
        "   "
      ]
    },
    {
      "cell_type": "code",
      "execution_count": null,
      "id": "dccfde33-2452-43fb-a8a5-5c6ebc02a71d",
      "metadata": {
        "id": "dccfde33-2452-43fb-a8a5-5c6ebc02a71d"
      },
      "outputs": [],
      "source": [
        "import pandas as pd\n",
        "import psycopg2"
      ]
    },
    {
      "cell_type": "code",
      "execution_count": null,
      "id": "oVKH4ehvf8Ay",
      "metadata": {
        "id": "oVKH4ehvf8Ay"
      },
      "outputs": [],
      "source": [
        "# вставьте сюда параметры подключения из юнита 1. Работа с базой данных из Python\n"
      ]
    },
    {
      "cell_type": "code",
      "execution_count": null,
      "id": "G4X_q8KBf7SF",
      "metadata": {
        "id": "G4X_q8KBf7SF"
      },
      "outputs": [],
      "source": [
        "connection = psycopg2.connect(\n",
        "    dbname=DBNAME,\n",
        "    user=USER,\n",
        "    host=HOST,\n",
        "    password=PASSWORD,\n",
        "    port=PORT\n",
        ")"
      ]
    },
    {
      "cell_type": "code",
      "source": [
        "# Избавляюсь от ворнинга \"UserWarning: pandas only supports SQLAlchemy connectable (engine/connection) or database string URI or sqlite3 DBAPI2 connection.\"\n",
        "from sqlalchemy import create_engine, text\n",
        "connection = create_engine(f'postgresql://{USER}:{PASSWORD}@{HOST}:{PORT}/{DBNAME}')"
      ],
      "metadata": {
        "id": "PL6WZM_aIdE6"
      },
      "id": "PL6WZM_aIdE6",
      "execution_count": null,
      "outputs": []
    },
    {
      "cell_type": "code",
      "source": [
        "# Вынос отправки запроса в функцию для удобства\n",
        "def handle_request(query: str, descr: str = None, on_result = None) -> None:\n",
        "  '''\n",
        "  Функция, осуществляющая запрос к БД и выводящая результат через print\n",
        "\n",
        "  Принимает:\n",
        "  query - текст запроса (обязательный параметр)\n",
        "  descr - описание результата запроса (попадает в print)\n",
        "  on_result - колбэк, преобразующий датафрейм в другой тип данных (попадает в print)\n",
        "  '''\n",
        "  df = pd.read_sql_query(text(query), connection)\n",
        "  result = df if on_result is None else on_result(df)\n",
        "  if descr is None:\n",
        "    print(result)\n",
        "  else:\n",
        "    print(f'{descr}: {result}')\n",
        "\n",
        "# Версия запроса, возвращающая, а не выводящая результат\n",
        "def request(query: str, on_result = None):\n",
        "  '''\n",
        "  Функция, осуществляющая запрос к БД и возвращающая результат\n",
        "\n",
        "  Принимает:\n",
        "  query - текст запроса (обязательный параметр)\n",
        "  on_result - колбэк, преобразующий датафрейм в другой тип данных\n",
        "\n",
        "  Возвращает результат вычислений без сопроводительного текста\n",
        "  '''\n",
        "  df = pd.read_sql_query(text(query), connection)\n",
        "  return df if on_result is None else on_result(df)"
      ],
      "metadata": {
        "id": "mUwD9XY-Li90"
      },
      "id": "mUwD9XY-Li90",
      "execution_count": null,
      "outputs": []
    },
    {
      "cell_type": "markdown",
      "id": "0dc6476b-7a00-44f1-ac93-6e3baed33a29",
      "metadata": {
        "id": "0dc6476b-7a00-44f1-ac93-6e3baed33a29"
      },
      "source": [
        "## 3. Предварительный анализ данных"
      ]
    },
    {
      "cell_type": "markdown",
      "id": "889782b6-8d1c-410e-8920-e57f27917c64",
      "metadata": {
        "id": "889782b6-8d1c-410e-8920-e57f27917c64"
      },
      "source": [
        "1. Напишите запрос, который посчитает количество вакансий в базе (вакансии находятся в таблице `vacancies`)."
      ]
    },
    {
      "cell_type": "code",
      "execution_count": null,
      "id": "bc39e68e-ed02-4ee2-9235-7258a2f867a8",
      "metadata": {
        "id": "bc39e68e-ed02-4ee2-9235-7258a2f867a8"
      },
      "outputs": [],
      "source": [
        "# текст запроса\n",
        "query_3_1 = f'''\n",
        "SELECT * FROM vacancies\n",
        "'''"
      ]
    },
    {
      "cell_type": "code",
      "execution_count": null,
      "id": "7mAwtsk4hEHY",
      "metadata": {
        "id": "7mAwtsk4hEHY",
        "colab": {
          "base_uri": "https://localhost:8080/"
        },
        "outputId": "180e70c1-8a4f-4eac-9e63-7d4414090e2b"
      },
      "outputs": [
        {
          "output_type": "stream",
          "name": "stdout",
          "text": [
            "Всего вакансий: 49197\n"
          ]
        }
      ],
      "source": [
        "# результат запроса\n",
        "handle_request(query_3_1, 'Всего вакансий', lambda df: len(df))"
      ]
    },
    {
      "cell_type": "markdown",
      "id": "b583485d-1f9e-494e-ada4-80ffff7c53d6",
      "metadata": {
        "id": "b583485d-1f9e-494e-ada4-80ffff7c53d6"
      },
      "source": [
        "2. Напишите запрос, который посчитает количество работодателей (таблица `employers`)."
      ]
    },
    {
      "cell_type": "code",
      "execution_count": null,
      "id": "5408c52c-3407-4a63-b25b-1aafa2322d28",
      "metadata": {
        "id": "5408c52c-3407-4a63-b25b-1aafa2322d28"
      },
      "outputs": [],
      "source": [
        "# текст запроса\n",
        "query_3_2 = f'''\n",
        "SELECT * FROM employers\n",
        "'''"
      ]
    },
    {
      "cell_type": "code",
      "execution_count": null,
      "id": "jVL4eshKhdqc",
      "metadata": {
        "id": "jVL4eshKhdqc",
        "colab": {
          "base_uri": "https://localhost:8080/"
        },
        "outputId": "83f6a237-74fd-4dd4-a897-e501037cdfde"
      },
      "outputs": [
        {
          "output_type": "stream",
          "name": "stdout",
          "text": [
            "Всего работодателей: 23501\n"
          ]
        }
      ],
      "source": [
        "# результат запроса\n",
        "handle_request(query_3_2, 'Всего работодателей', lambda df: len(df))"
      ]
    },
    {
      "cell_type": "markdown",
      "id": "a2bfff1f-c975-4bf6-84be-2185d79dcb76",
      "metadata": {
        "id": "a2bfff1f-c975-4bf6-84be-2185d79dcb76"
      },
      "source": [
        "3. Посчитайте с помощью запроса количество регионов (таблица `areas`)."
      ]
    },
    {
      "cell_type": "code",
      "execution_count": null,
      "id": "1m8QJwBYhey6",
      "metadata": {
        "id": "1m8QJwBYhey6"
      },
      "outputs": [],
      "source": [
        "# текст запроса\n",
        "query_3_3 = f'''\n",
        "SELECT * FROM areas\n",
        "'''"
      ]
    },
    {
      "cell_type": "code",
      "execution_count": null,
      "id": "EZsn9tlfhe7f",
      "metadata": {
        "id": "EZsn9tlfhe7f",
        "colab": {
          "base_uri": "https://localhost:8080/"
        },
        "outputId": "095c7388-b7dc-42eb-aed8-ee17bd988453"
      },
      "outputs": [
        {
          "output_type": "stream",
          "name": "stdout",
          "text": [
            "Количество регионов: 1362\n"
          ]
        }
      ],
      "source": [
        "# результат запроса\n",
        "handle_request(query_3_3, 'Количество регионов', lambda df: len(df))"
      ]
    },
    {
      "cell_type": "markdown",
      "id": "41bb59f3-53cc-4a67-a5bc-bedf573955e4",
      "metadata": {
        "id": "41bb59f3-53cc-4a67-a5bc-bedf573955e4"
      },
      "source": [
        "4. Посчитайте с помощью запроса количество сфер деятельности в базе (таблица `industries`)."
      ]
    },
    {
      "cell_type": "code",
      "execution_count": null,
      "id": "d286cf4c-707b-4cd2-9190-7ab3587d04a1",
      "metadata": {
        "id": "d286cf4c-707b-4cd2-9190-7ab3587d04a1"
      },
      "outputs": [],
      "source": [
        "# текст запроса\n",
        "query_3_4 = f'''\n",
        "SELECT * FROM industries\n",
        "'''"
      ]
    },
    {
      "cell_type": "code",
      "execution_count": null,
      "id": "JYAaoZ4qhfzW",
      "metadata": {
        "id": "JYAaoZ4qhfzW",
        "colab": {
          "base_uri": "https://localhost:8080/"
        },
        "outputId": "ce912a2e-a9cb-4333-a9e8-8c658bce3ac2"
      },
      "outputs": [
        {
          "output_type": "stream",
          "name": "stdout",
          "text": [
            "Количество сфер деятельности: 294\n"
          ]
        }
      ],
      "source": [
        "# результат запроса\n",
        "handle_request(query_3_4, 'Количество сфер деятельности', lambda df: len(df))"
      ]
    },
    {
      "cell_type": "markdown",
      "id": "ed4de9ce",
      "metadata": {
        "id": "ed4de9ce"
      },
      "source": [
        "***"
      ]
    },
    {
      "cell_type": "code",
      "execution_count": null,
      "id": "be4e9bd3-a4db-4a20-82fb-6b02fc2957e0",
      "metadata": {
        "id": "be4e9bd3-a4db-4a20-82fb-6b02fc2957e0",
        "colab": {
          "base_uri": "https://localhost:8080/"
        },
        "outputId": "11623b6a-947c-40f8-9f97-0beb50491976"
      },
      "outputs": [
        {
          "output_type": "stream",
          "name": "stdout",
          "text": [
            "ВЫВОДЫ ПО ПРЕДВАРИТЕЛЬНОМУ АНАЛИЗУ ДАННЫХ \n",
            "\n",
            "\n",
            "На 49197 приходится 23501, т.е. на 1 работодателя в среднем приходится 2 шт. вакансий.\n",
            "\n",
            "Регионы-лидеры по количеству вакансий:\n",
            "\n",
            "            РЕГИОН  ВАКАНСИЙ\n",
            "0           Москва      5333\n",
            "1  Санкт-Петербург      2851\n",
            "2            Минск      2112\n",
            "\n",
            "Регионы-аутсайдеры по количеству вакансий:\n",
            "\n",
            "                     РЕГИОН  ВАКАНСИЙ\n",
            "0                     Орлов         0\n",
            "1  Шацк (Рязанская область)         0\n",
            "2                    Шилово         0\n",
            "\n",
            "\n",
            "Как видно, пока еще вакансии сосредоточены в основном в крупных городах \n",
            "(столицы и миллионники), и для жителей других регионов остается только \n",
            "вариант с удаленной работой либо релокацией.\n",
            "\n",
            "\n",
            "Вакансии охватывают 294 сфер деятельности, что говорит о широком\n",
            "применении дата саенс практически в любой нише.\n",
            "\n",
            "\n",
            "Топ-5 самых популярных среди работодателей сфер деятельности:\n",
            "\n",
            "                                               СФЕРА  РАБОТОДАТЕЛЕЙ\n",
            "0                Разработка программного обеспечения           3553\n",
            "1  Системная интеграция,  автоматизации технологи...           2993\n",
            "2  Интернет-компания (поисковики, платежные систе...           1675\n",
            "3  Маркетинговые, рекламные, BTL, дизайнерские, E...            798\n",
            "4                              Консалтинговые услуги            662\n"
          ]
        }
      ],
      "source": [
        "# выводы по предварительному анализу данных\n",
        "print('ВЫВОДЫ ПО ПРЕДВАРИТЕЛЬНОМУ АНАЛИЗУ ДАННЫХ \\n\\n')\n",
        "\n",
        "\n",
        "# 1. Выводим сообщение о соотношении вакансий и работодателей\n",
        "total_vacancies = request(query_3_1, lambda df: len(df))\n",
        "total_employers = request(query_3_2, lambda df: len(df))\n",
        "ratio = int(round(float(total_vacancies) / float(total_employers), 0))\n",
        "\n",
        "print(f'На {total_vacancies} приходится {total_employers}, т.е. на 1 работодателя в среднем приходится {ratio} шт. вакансий.\\n')\n",
        "\n",
        "\n",
        "# 2. Выводим сообщение о регионах-лидерах и регионах-аутсайдерах по количеству вакансий\n",
        "lead_areas = '''\n",
        "SELECT a.name AS \"РЕГИОН\", COUNT(v.id) AS \"ВАКАНСИЙ\"\n",
        "FROM areas AS a\n",
        "LEFT JOIN vacancies AS v ON a.id = v.area_id\n",
        "GROUP BY a.name\n",
        "ORDER BY \"ВАКАНСИЙ\" DESC\n",
        "LIMIT 3\n",
        "'''\n",
        "lead_areas = request(lead_areas)\n",
        "\n",
        "outsider_areas = '''\n",
        "SELECT a.name AS \"РЕГИОН\", COUNT(v.id) AS \"ВАКАНСИЙ\"\n",
        "FROM areas AS a\n",
        "LEFT JOIN vacancies AS v ON a.id = v.area_id\n",
        "GROUP BY a.name\n",
        "ORDER BY \"ВАКАНСИЙ\" ASC\n",
        "LIMIT 3\n",
        "'''\n",
        "outsider_areas = request(outsider_areas)\n",
        "\n",
        "print('Регионы-лидеры по количеству вакансий:\\n')\n",
        "print(lead_areas)\n",
        "print('\\nРегионы-аутсайдеры по количеству вакансий:\\n')\n",
        "print(outsider_areas)\n",
        "print('''\n",
        "\\nКак видно, пока еще вакансии сосредоточены в основном в крупных городах\n",
        "(столицы и миллионники), и для жителей других регионов остается только\n",
        "вариант с удаленной работой либо релокацией.\n",
        "''')\n",
        "\n",
        "\n",
        "# 3. Выводим сообщение о сферах деятельности\n",
        "industries = request(query_3_4, lambda df: len(df))\n",
        "print(f'''\n",
        "Вакансии охватывают {industries} сфер деятельности, что говорит о широком\n",
        "применении дата саенс практически в любой нише.\n",
        "''')\n",
        "\n",
        "\n",
        "# 4. Выводим сообщение о популярности сфер деятельности среди работодателей\n",
        "emp_ind = '''\n",
        "SELECT i.name AS \"СФЕРА\", COUNT(ei.employer_id) AS \"РАБОТОДАТЕЛЕЙ\"\n",
        "FROM industries AS i\n",
        "LEFT JOIN employers_industries AS ei ON i.id = ei.industry_id\n",
        "GROUP BY i.name\n",
        "ORDER BY \"РАБОТОДАТЕЛЕЙ\" DESC\n",
        "LIMIT 5\n",
        "'''\n",
        "\n",
        "emp_ind = request(emp_ind)\n",
        "print(f'''\n",
        "Топ-5 самых популярных среди работодателей сфер деятельности:\n",
        "''')\n",
        "print(emp_ind)"
      ]
    },
    {
      "cell_type": "markdown",
      "id": "8d62a9f3-f64e-4fe7-bdac-c4dffa16155e",
      "metadata": {
        "id": "8d62a9f3-f64e-4fe7-bdac-c4dffa16155e"
      },
      "source": [
        "## 4. Детальный анализ вакансий"
      ]
    },
    {
      "cell_type": "markdown",
      "id": "93053d3d-b284-481a-9cf7-012d7014c0e0",
      "metadata": {
        "id": "93053d3d-b284-481a-9cf7-012d7014c0e0"
      },
      "source": [
        "1. Напишите запрос, который позволит узнать, сколько (`cnt`) вакансий в каждом регионе (`area`).\n",
        "Отсортируйте по количеству вакансий в порядке убывания."
      ]
    },
    {
      "cell_type": "code",
      "execution_count": null,
      "id": "3f069da6-fdc9-4ae7-b514-fafe2675efd3",
      "metadata": {
        "id": "3f069da6-fdc9-4ae7-b514-fafe2675efd3"
      },
      "outputs": [],
      "source": [
        "# текст запроса\n",
        "query_4_1 = '''\n",
        "SELECT\n",
        "  a.name AS area, COUNT(v.id) AS cnt\n",
        "FROM\n",
        "  vacancies AS v\n",
        "JOIN\n",
        "  areas AS a ON v.area_id = a.id\n",
        "GROUP BY\n",
        "  area\n",
        "ORDER BY\n",
        "  cnt DESC\n",
        "'''"
      ]
    },
    {
      "cell_type": "code",
      "execution_count": null,
      "id": "P7QL86hrjhRJ",
      "metadata": {
        "id": "P7QL86hrjhRJ",
        "colab": {
          "base_uri": "https://localhost:8080/"
        },
        "outputId": "f8c20486-ab1d-4452-991f-4657b82c9276"
      },
      "outputs": [
        {
          "output_type": "stream",
          "name": "stdout",
          "text": [
            "                area   cnt\n",
            "0             Москва  5333\n",
            "1    Санкт-Петербург  2851\n",
            "2              Минск  2112\n",
            "3        Новосибирск  2006\n",
            "4             Алматы  1892\n",
            "..               ...   ...\n",
            "764       Тарко-Сале     1\n",
            "765    Новоаннинский     1\n",
            "766            Бирск     1\n",
            "767           Сасово     1\n",
            "768             Анна     1\n",
            "\n",
            "[769 rows x 2 columns]\n"
          ]
        }
      ],
      "source": [
        "# результат запроса\n",
        "handle_request(query_4_1)"
      ]
    },
    {
      "cell_type": "markdown",
      "id": "4266f0b6-1646-492a-88b4-2f6a46502135",
      "metadata": {
        "id": "4266f0b6-1646-492a-88b4-2f6a46502135"
      },
      "source": [
        "2. Напишите запрос, чтобы определить у какого количества вакансий заполнено хотя бы одно из двух полей с зарплатой."
      ]
    },
    {
      "cell_type": "code",
      "execution_count": null,
      "id": "0c44b350-72eb-4d65-8b54-a1fc449ba9fd",
      "metadata": {
        "id": "0c44b350-72eb-4d65-8b54-a1fc449ba9fd"
      },
      "outputs": [],
      "source": [
        "# текст запроса\n",
        "query_4_2 = '''\n",
        "SELECT\n",
        "  COUNT(*)\n",
        "FROM\n",
        "  vacancies\n",
        "WHERE\n",
        "  salary_from IS NOT NULL OR salary_to IS NOT NULL\n",
        "'''"
      ]
    },
    {
      "cell_type": "code",
      "execution_count": null,
      "id": "rhvwaMDkoWTi",
      "metadata": {
        "id": "rhvwaMDkoWTi",
        "colab": {
          "base_uri": "https://localhost:8080/"
        },
        "outputId": "ab7d8f60-250b-4c1f-dc0b-c2bbda625438"
      },
      "outputs": [
        {
          "output_type": "stream",
          "name": "stdout",
          "text": [
            "Вакансий с указанием зарплаты: 24073\n"
          ]
        }
      ],
      "source": [
        "# результат запроса\n",
        "handle_request(query_4_2, 'Вакансий с указанием зарплаты', lambda df: df['count'][0])"
      ]
    },
    {
      "cell_type": "markdown",
      "id": "635c4d5d-f323-4c66-b428-50a088120aa0",
      "metadata": {
        "id": "635c4d5d-f323-4c66-b428-50a088120aa0"
      },
      "source": [
        "3. Найдите средние значения для нижней и верхней границы зарплатной вилки. Округлите значения до **целого числа**."
      ]
    },
    {
      "cell_type": "code",
      "execution_count": null,
      "id": "603cdbe4-0ec3-4106-8eaf-c73fcdd29165",
      "metadata": {
        "id": "603cdbe4-0ec3-4106-8eaf-c73fcdd29165"
      },
      "outputs": [],
      "source": [
        "# текст запроса\n",
        "query_4_3 = '''\n",
        "SELECT\n",
        "  AVG(salary_from) AS from,\n",
        "  AVG(salary_to) AS to\n",
        "FROM\n",
        "  vacancies\n",
        "'''"
      ]
    },
    {
      "cell_type": "code",
      "execution_count": null,
      "id": "pswpAb66ovZZ",
      "metadata": {
        "id": "pswpAb66ovZZ",
        "colab": {
          "base_uri": "https://localhost:8080/"
        },
        "outputId": "672adfe4-dd75-4191-ad45-6afc95e9f220"
      },
      "outputs": [
        {
          "output_type": "stream",
          "name": "stdout",
          "text": [
            "Средние значения вилки: от 71065 до 110537\n"
          ]
        }
      ],
      "source": [
        "# результат запроса\n",
        "def convert(df):\n",
        "  from_ = int(round(df['from'][0], 0))\n",
        "  to_ = int(round(df['to'][0], 0))\n",
        "  return f'от {from_} до {to_}'\n",
        "\n",
        "handle_request(query_4_3, 'Средние значения вилки', convert)"
      ]
    },
    {
      "cell_type": "markdown",
      "id": "f3fdaec9-5fd3-4260-9cf5-1d7406b628a5",
      "metadata": {
        "id": "f3fdaec9-5fd3-4260-9cf5-1d7406b628a5"
      },
      "source": [
        "4. Напишите запрос, который выведет количество вакансий для каждого сочетания типа рабочего графика (`schedule`) и типа трудоустройства (`employment`), используемого в вакансиях. Результат отсортируйте по убыванию количества.\n"
      ]
    },
    {
      "cell_type": "code",
      "execution_count": null,
      "id": "1ea710ec-871b-431e-9462-c7d0fd87011b",
      "metadata": {
        "id": "1ea710ec-871b-431e-9462-c7d0fd87011b"
      },
      "outputs": [],
      "source": [
        "# текст запроса\n",
        "query_4_4 = '''\n",
        "SELECT\n",
        "  schedule,\n",
        "  employment,\n",
        "  COUNT(*) AS vacancy_count\n",
        "FROM\n",
        "  vacancies\n",
        "GROUP BY\n",
        "  schedule,\n",
        "  employment\n",
        "ORDER BY\n",
        "  vacancy_count DESC\n",
        "'''"
      ]
    },
    {
      "cell_type": "code",
      "execution_count": null,
      "id": "lGUVqavdo4JQ",
      "metadata": {
        "id": "lGUVqavdo4JQ",
        "colab": {
          "base_uri": "https://localhost:8080/"
        },
        "outputId": "715fd755-35e7-431a-f253-5a9abf6562ef"
      },
      "outputs": [
        {
          "output_type": "stream",
          "name": "stdout",
          "text": [
            "            schedule           employment  vacancy_count\n",
            "0        Полный день     Полная занятость          35367\n",
            "1   Удаленная работа     Полная занятость           7802\n",
            "2      Гибкий график     Полная занятость           1593\n",
            "3   Удаленная работа  Частичная занятость           1312\n",
            "4     Сменный график     Полная занятость            940\n",
            "5        Полный день           Стажировка            569\n",
            "6     Вахтовый метод     Полная занятость            367\n",
            "7        Полный день  Частичная занятость            347\n",
            "8      Гибкий график  Частичная занятость            312\n",
            "9        Полный день     Проектная работа            141\n",
            "10  Удаленная работа     Проектная работа            133\n",
            "11     Гибкий график           Стажировка            116\n",
            "12    Сменный график  Частичная занятость            101\n",
            "13  Удаленная работа           Стажировка             64\n",
            "14     Гибкий график     Проектная работа             18\n",
            "15    Сменный график           Стажировка             12\n",
            "16    Вахтовый метод     Проектная работа              2\n",
            "17    Сменный график     Проектная работа              1\n"
          ]
        }
      ],
      "source": [
        "# результат запроса\n",
        "handle_request(query_4_4)"
      ]
    },
    {
      "cell_type": "markdown",
      "id": "0136ffee-0ead-4a6b-b608-61d1c753a438",
      "metadata": {
        "id": "0136ffee-0ead-4a6b-b608-61d1c753a438"
      },
      "source": [
        "5. Напишите запрос, выводящий значения поля «Требуемый опыт работы» (`experience`) в порядке возрастания количества вакансий, в которых указан данный вариант опыта."
      ]
    },
    {
      "cell_type": "code",
      "execution_count": null,
      "id": "5b3a8e79-f7ab-4008-b767-12aea3a205ea",
      "metadata": {
        "id": "5b3a8e79-f7ab-4008-b767-12aea3a205ea"
      },
      "outputs": [],
      "source": [
        "# текст запроса\n",
        "query_4_5 = '''\n",
        "SELECT\n",
        "  experience,\n",
        "  COUNT(*) AS vacancies\n",
        "FROM\n",
        "  vacancies\n",
        "GROUP BY\n",
        "  experience\n",
        "ORDER BY\n",
        "  vacancies ASC\n",
        "'''"
      ]
    },
    {
      "cell_type": "code",
      "execution_count": null,
      "id": "3Is64Y-hpDpq",
      "metadata": {
        "id": "3Is64Y-hpDpq",
        "colab": {
          "base_uri": "https://localhost:8080/"
        },
        "outputId": "b710033e-75a8-4b71-f2ca-5bae2774a54f"
      },
      "outputs": [
        {
          "output_type": "stream",
          "name": "stdout",
          "text": [
            "           experience  vacancies\n",
            "0         Более 6 лет       1337\n",
            "1           Нет опыта       7197\n",
            "2       От 3 до 6 лет      14511\n",
            "3  От 1 года до 3 лет      26152\n"
          ]
        }
      ],
      "source": [
        "# результат запроса\n",
        "handle_request(query_4_5)"
      ]
    },
    {
      "cell_type": "markdown",
      "id": "oq2b7n1QpIka",
      "metadata": {
        "id": "oq2b7n1QpIka"
      },
      "source": [
        "***"
      ]
    },
    {
      "cell_type": "code",
      "execution_count": null,
      "id": "e91f87ed-e25c-4f96-9f92-b642e8c0b4fa",
      "metadata": {
        "id": "e91f87ed-e25c-4f96-9f92-b642e8c0b4fa",
        "colab": {
          "base_uri": "https://localhost:8080/"
        },
        "outputId": "12f7f123-154e-44a5-9e76-2b4bfc0f96f7"
      },
      "outputs": [
        {
          "output_type": "stream",
          "name": "stdout",
          "text": [
            "ВЫВОДЫ ПО ДЕТАЛЬНОМУ АНАЛИЗУ ВАКАНСИЙ \n",
            "\n",
            "\n",
            "ТОП-5 РЕГИОНОВ ПО РАЗМЕРУ ЗАРПЛАТЫ:\n",
            "\n",
            "       РЕГИОН  СР. ЗАРПЛАТА\n",
            "0    Германия      348270.0\n",
            "1    Болгария      307681.0\n",
            "2     Испания      300000.0\n",
            "3  Черногория      270324.0\n",
            "4       Литва      263019.0\n",
            "\n",
            "На 49197 вакансий приходится 24073 шт. с указанием зарплаты.\n",
            "Т.е. соотношение примерно 2 к 1. В целом неплохо (если сравнить с другими напарвлениями IT).\n",
            "\n",
            "Вновь обратимся к количеству вакансий по требованиям уровня опыта:\n",
            "           experience  vacancies\n",
            "0         Более 6 лет       1337\n",
            "1           Нет опыта       7197\n",
            "2       От 3 до 6 лет      14511\n",
            "3  От 1 года до 3 лет      26152\n",
            "\n",
            "Иными словами, сфера относительно молодая: наблюдается дефицит высококвалифицированных специалистов,\n",
            "отсюда и поиск работодателями в основном начинающих специалистов (опыт от 1 до 3). \n",
            "Вместе с тем, имеется классическая проблема: даже в этих условиях новичков без опыта мало кто ждет.\n",
            "Этим же можно объяснить и относительно низкие (для IT) средние зарплаты: от 71065 до 110537.\n",
            "Полагаю, по мере роста требований к соискателям, будут расти и предлагаемые уровня вознаграждения.\n",
            "\n",
            "Топ-3 вариантов формата работы:\fn           schedule        employment  vacancy_count\n",
            "0       Полный день  Полная занятость          35367\n",
            "1  Удаленная работа  Полная занятость           7802\n",
            "2     Гибкий график  Полная занятость           1593\n",
            "\n",
            "Иными словами, пока резко доминирует полный рабочий день в офисе (что нетипично для IT)\n",
            "\n",
            "Вероятно это тоже тесно связано с низкими требованиями квалификации соискателей и,\n",
            "возможно, высокой конкуренцией среди них. \n",
            "И, пока, к сожалению, можно констатировать низкие возможности для жителей мелких городов,\n",
            "в которых практически нет вакансий в данной сфере и относительно низкой популярности удаленной работы.\n",
            "\n"
          ]
        }
      ],
      "source": [
        "# выводы по детальному анализу вакансий\n",
        "print('ВЫВОДЫ ПО ДЕТАЛЬНОМУ АНАЛИЗУ ВАКАНСИЙ \\n\\n')\n",
        "\n",
        "\n",
        "# 1. Выводим топ-5 регионов по уровню зарплаты\n",
        "area_salaries = '''\n",
        "SELECT a.name AS \"РЕГИОН\", ROUND(AVG(COALESCE(salary_from, salary_to)), 0) AS \"СР. ЗАРПЛАТА\"\n",
        "FROM vacancies AS v\n",
        "JOIN areas AS a ON v.area_id = a.id\n",
        "WHERE salary_from IS NOT NULL OR salary_to IS NOT NULL\n",
        "GROUP BY a.name\n",
        "ORDER BY \"СР. ЗАРПЛАТА\" DESC\n",
        "LIMIT 5\n",
        "'''\n",
        "area_salaries = request(area_salaries)\n",
        "print('ТОП-5 РЕГИОНОВ ПО РАЗМЕРУ ЗАРПЛАТЫ:\\n')\n",
        "print(area_salaries)\n",
        "\n",
        "\n",
        "# 2. Выводим инфу по прозрачности зарплат в вакансиях\n",
        "vacansies_with_salary = request(query_4_2, lambda df: df['count'][0])\n",
        "v_ratio = int(round(float(total_vacancies) / float(vacansies_with_salary), 0))\n",
        "print(f'\\nНа {total_vacancies} вакансий приходится {vacansies_with_salary} шт. с указанием зарплаты.')\n",
        "print(f'Т.е. соотношение примерно {v_ratio} к 1. В целом неплохо (если сравнить с другими напарвлениями IT).\\n')\n",
        "\n",
        "\n",
        "# 3. Выводим требования опыта и делаем выводы\n",
        "avg_salary = request(query_4_3)\n",
        "avg_salary = convert(avg_salary)\n",
        "req = request(query_4_5)\n",
        "print(f'Вновь обратимся к количеству вакансий по требованиям уровня опыта:\\n{req}')\n",
        "print(f'''\n",
        "Иными словами, сфера относительно молодая: наблюдается дефицит высококвалифицированных специалистов,\n",
        "отсюда и поиск работодателями в основном начинающих специалистов (опыт от 1 до 3).\n",
        "Вместе с тем, имеется классическая проблема: даже в этих условиях новичков без опыта мало кто ждет.\n",
        "Этим же можно объяснить и относительно низкие (для IT) средние зарплаты: {avg_salary}.\n",
        "Полагаю, по мере роста требований к соискателям, будут расти и предлагаемые уровня вознаграждения.\n",
        "''')\n",
        "\n",
        "# 4. Выводы по графику работы\n",
        "work_schedule = '''\n",
        "SELECT schedule, employment, COUNT(*) AS vacancy_count\n",
        "FROM vacancies\n",
        "GROUP BY schedule, employment\n",
        "ORDER BY vacancy_count DESC\n",
        "LIMIT 3\n",
        "'''\n",
        "work_schedule = request(work_schedule)\n",
        "print(f'Топ-3 вариантов формата работы:\\fn{work_schedule}')\n",
        "print('\\nИными словами, пока резко доминирует полный рабочий день в офисе (что нетипично для IT)')\n",
        "print('''\n",
        "Вероятно это тоже тесно связано с низкими требованиями квалификации соискателей и,\n",
        "возможно, высокой конкуренцией среди них.\n",
        "И, пока, к сожалению, можно констатировать низкие возможности для жителей мелких городов,\n",
        "в которых практически нет вакансий в данной сфере и относительно низкой популярности удаленной работы.\n",
        "''')"
      ]
    },
    {
      "cell_type": "markdown",
      "id": "7ea20ab6-04a7-40a0-adec-443a0e5a42c3",
      "metadata": {
        "id": "7ea20ab6-04a7-40a0-adec-443a0e5a42c3"
      },
      "source": [
        "## 5. Анализ работодателей"
      ]
    },
    {
      "cell_type": "markdown",
      "id": "968aed80-74ef-4ffb-b5bf-c65b84e9caea",
      "metadata": {
        "id": "968aed80-74ef-4ffb-b5bf-c65b84e9caea"
      },
      "source": [
        "1. Напишите запрос, который позволит узнать, какие работодатели находятся на первом и пятом месте по количеству вакансий."
      ]
    },
    {
      "cell_type": "code",
      "execution_count": null,
      "id": "f2d62796-d400-4ec1-a675-88112739a50e",
      "metadata": {
        "id": "f2d62796-d400-4ec1-a675-88112739a50e"
      },
      "outputs": [],
      "source": [
        "# текст запроса\n",
        "query_5_1 = '''\n",
        "(SELECT\n",
        "  1 AS place,\n",
        "  e.name,\n",
        "  COUNT(v.id) AS vacancy_count\n",
        "FROM\n",
        "  employers AS e\n",
        "JOIN\n",
        "  vacancies AS v ON e.id = v.employer_id\n",
        "GROUP BY\n",
        "  e.name\n",
        "ORDER BY\n",
        "  vacancy_count DESC\n",
        "LIMIT 1)\n",
        "\n",
        "UNION\n",
        "\n",
        "(SELECT\n",
        "  5 AS place,\n",
        "  e.name,\n",
        "  COUNT(v.id) AS vacancy_count\n",
        "FROM\n",
        "  employers AS e\n",
        "JOIN\n",
        "  vacancies AS v ON e.id = v.employer_id\n",
        "GROUP BY\n",
        "  e.name\n",
        "ORDER BY\n",
        "  vacancy_count DESC\n",
        "LIMIT 1 OFFSET 4)\n",
        "\n",
        "ORDER BY\n",
        "  place\n",
        "'''"
      ]
    },
    {
      "cell_type": "code",
      "execution_count": null,
      "id": "64tOMkAxqkQk",
      "metadata": {
        "id": "64tOMkAxqkQk",
        "colab": {
          "base_uri": "https://localhost:8080/"
        },
        "outputId": "0a685cdb-f270-42a0-ba56-5d2593234729"
      },
      "outputs": [
        {
          "output_type": "stream",
          "name": "stdout",
          "text": [
            "   place           name  vacancy_count\n",
            "0      1         Яндекс           1933\n",
            "1      5  Газпром нефть            331\n"
          ]
        }
      ],
      "source": [
        "# результат запроса\n",
        "handle_request(query_5_1)"
      ]
    },
    {
      "cell_type": "markdown",
      "id": "68377cfc-b378-43dc-ab7d-1195abf2c515",
      "metadata": {
        "id": "68377cfc-b378-43dc-ab7d-1195abf2c515"
      },
      "source": [
        "2. Напишите запрос, который для каждого региона выведет количество работодателей и вакансий в нём.\n",
        "Среди регионов, в которых нет вакансий, найдите тот, в котором наибольшее количество работодателей.\n"
      ]
    },
    {
      "cell_type": "code",
      "execution_count": null,
      "id": "dd7df27a-e3e8-412e-a21a-5d389b71e891",
      "metadata": {
        "id": "dd7df27a-e3e8-412e-a21a-5d389b71e891"
      },
      "outputs": [],
      "source": [
        "# текст запроса\n",
        "query_5_2 = '''\n",
        "SELECT\n",
        "  a.name AS area,\n",
        "  COUNT(DISTINCT e.id) AS employers,\n",
        "  COUNT(DISTINCT v.id) AS vacancies\n",
        "FROM\n",
        "  areas a\n",
        "LEFT JOIN\n",
        "  employers e ON a.id = e.area\n",
        "LEFT JOIN\n",
        "  vacancies v ON a.id = v.area_id\n",
        "GROUP BY\n",
        "  a.id, a.name\n",
        "ORDER BY\n",
        "  vacancies ASC, employers DESC\n",
        "'''"
      ]
    },
    {
      "cell_type": "code",
      "execution_count": null,
      "id": "x1ikWbydrbf6",
      "metadata": {
        "id": "x1ikWbydrbf6",
        "colab": {
          "base_uri": "https://localhost:8080/"
        },
        "outputId": "e459cc15-7d2c-4270-ff91-7ec2f4f1b5fa"
      },
      "outputs": [
        {
          "output_type": "stream",
          "name": "stdout",
          "text": [
            "                    area  employers  vacancies\n",
            "0                 Россия        410          0\n",
            "1              Казахстан        207          0\n",
            "2     Московская область         75          0\n",
            "3     Краснодарский край         19          0\n",
            "4     Ростовская область         18          0\n",
            "...                  ...        ...        ...\n",
            "1357              Алматы        721       1892\n",
            "1358         Новосибирск        573       2006\n",
            "1359               Минск       1115       2112\n",
            "1360     Санкт-Петербург       2217       2851\n",
            "1361              Москва       5864       5333\n",
            "\n",
            "[1362 rows x 3 columns]\n"
          ]
        }
      ],
      "source": [
        "# результат запроса\n",
        "handle_request(query_5_2)"
      ]
    },
    {
      "cell_type": "markdown",
      "id": "f2fe0acb-ab1a-4e15-9326-2560e22d73c1",
      "metadata": {
        "id": "f2fe0acb-ab1a-4e15-9326-2560e22d73c1"
      },
      "source": [
        "3. Для каждого работодателя посчитайте количество регионов, в которых он публикует свои вакансии. Отсортируйте результат по убыванию количества.\n"
      ]
    },
    {
      "cell_type": "code",
      "execution_count": null,
      "id": "6271f8ad-bd2e-4196-ae4a-5b39c4c1010e",
      "metadata": {
        "id": "6271f8ad-bd2e-4196-ae4a-5b39c4c1010e"
      },
      "outputs": [],
      "source": [
        "# текст запроса\n",
        "query_5_3 = '''\n",
        "SELECT\n",
        "  e.name AS employer,\n",
        "  COUNT(DISTINCT v.area_id) AS areas\n",
        "FROM\n",
        "  employers AS e\n",
        "JOIN\n",
        "  vacancies AS v ON e.id = v.employer_id\n",
        "GROUP BY\n",
        "  e.id, e.name\n",
        "ORDER BY\n",
        "  areas DESC\n",
        "'''"
      ]
    },
    {
      "cell_type": "code",
      "execution_count": null,
      "id": "1EIvX3HasH4F",
      "metadata": {
        "id": "1EIvX3HasH4F",
        "colab": {
          "base_uri": "https://localhost:8080/"
        },
        "outputId": "b8854318-1f21-44e6-ffca-7094bd3e3ee9"
      },
      "outputs": [
        {
          "output_type": "stream",
          "name": "stdout",
          "text": [
            "                                     employer  areas\n",
            "0                                      Яндекс    181\n",
            "1                                  Ростелеком    152\n",
            "2                                  Спецремонт    116\n",
            "3                      Поляков Денис Иванович     88\n",
            "4                                   ООО ЕФИН      71\n",
            "...                                       ...    ...\n",
            "14901                            НПП Авиатрон      1\n",
            "14902              Центр дистанционных торгов      1\n",
            "14903  Городские Телекоммуникационные Системы      1\n",
            "14904                       Введенский, Отель      1\n",
            "14905              Группа Компаний Автоимпорт      1\n",
            "\n",
            "[14906 rows x 2 columns]\n"
          ]
        }
      ],
      "source": [
        "# результат запроса\n",
        "handle_request(query_5_3)"
      ]
    },
    {
      "cell_type": "markdown",
      "id": "eab2206d-d95b-468b-8e5f-34381abf0ce7",
      "metadata": {
        "id": "eab2206d-d95b-468b-8e5f-34381abf0ce7"
      },
      "source": [
        "4. Напишите запрос для подсчёта количества работодателей, у которых не указана сфера деятельности."
      ]
    },
    {
      "cell_type": "code",
      "execution_count": null,
      "id": "80defb23-bfb1-4a18-8be6-bf36aa7165d5",
      "metadata": {
        "id": "80defb23-bfb1-4a18-8be6-bf36aa7165d5"
      },
      "outputs": [],
      "source": [
        "# текст запроса\n",
        "query_5_4 = '''\n",
        "SELECT\n",
        "  COUNT(*) AS employers\n",
        "FROM\n",
        "  employers AS e\n",
        "LEFT JOIN\n",
        "  employers_industries AS i ON e.id = i.employer_id\n",
        "WHERE\n",
        "  i.employer_id IS NULL\n",
        "'''"
      ]
    },
    {
      "cell_type": "code",
      "execution_count": null,
      "id": "Dp_yCx6ysQSu",
      "metadata": {
        "id": "Dp_yCx6ysQSu",
        "colab": {
          "base_uri": "https://localhost:8080/"
        },
        "outputId": "5b7931b0-7702-43bb-90cb-e329cfacbfb1"
      },
      "outputs": [
        {
          "output_type": "stream",
          "name": "stdout",
          "text": [
            "Работодателей с неуказанной сферой деятельности: 8419\n"
          ]
        }
      ],
      "source": [
        "# результат запроса\n",
        "handle_request(query_5_4, 'Работодателей с неуказанной сферой деятельности', lambda df: df['employers'][0])"
      ]
    },
    {
      "cell_type": "markdown",
      "id": "0112af31-f6b0-4e3b-82ab-71296e752e5e",
      "metadata": {
        "id": "0112af31-f6b0-4e3b-82ab-71296e752e5e"
      },
      "source": [
        "5. Напишите запрос, чтобы узнать название компании, находящейся на третьем месте в алфавитном списке (по названию) компаний, у которых указано четыре сферы деятельности."
      ]
    },
    {
      "cell_type": "code",
      "execution_count": null,
      "id": "973b0cfc-a972-470a-8b4a-68744ef220c4",
      "metadata": {
        "id": "973b0cfc-a972-470a-8b4a-68744ef220c4"
      },
      "outputs": [],
      "source": [
        "# текст запроса\n",
        "query_5_5 = '''\n",
        "SELECT\n",
        "  e.name AS employer\n",
        "FROM\n",
        "  employers AS e\n",
        "JOIN\n",
        "  employers_industries AS i ON e.id = i.employer_id\n",
        "GROUP BY\n",
        "  e.id, e.name\n",
        "HAVING\n",
        "  COUNT(i.industry_id) = 4\n",
        "ORDER BY\n",
        "  e.name\n",
        "LIMIT 1 OFFSET 2\n",
        "'''"
      ]
    },
    {
      "cell_type": "code",
      "execution_count": null,
      "id": "xsPtpp8EsaED",
      "metadata": {
        "id": "xsPtpp8EsaED",
        "colab": {
          "base_uri": "https://localhost:8080/"
        },
        "outputId": "0398234e-410e-47a2-f26f-7d40bc67c653"
      },
      "outputs": [
        {
          "output_type": "stream",
          "name": "stdout",
          "text": [
            "Третья компания с 4-мя видами дяетельности: 2ГИС\n"
          ]
        }
      ],
      "source": [
        "# результат запроса\n",
        "handle_request(query_5_5, 'Третья компания с 4-мя видами дяетельности', lambda df: df['employer'][0])"
      ]
    },
    {
      "cell_type": "markdown",
      "id": "3bfcfdaf-755d-4d2b-8ed8-326201dc07ab",
      "metadata": {
        "id": "3bfcfdaf-755d-4d2b-8ed8-326201dc07ab"
      },
      "source": [
        "6. С помощью запроса выясните, у какого количества работодателей в качестве сферы деятельности указана «Разработка программного обеспечения».\n"
      ]
    },
    {
      "cell_type": "code",
      "execution_count": null,
      "id": "ad3f270f-2991-47eb-929b-e8f88a55b0d1",
      "metadata": {
        "id": "ad3f270f-2991-47eb-929b-e8f88a55b0d1"
      },
      "outputs": [],
      "source": [
        "# текст запроса\n",
        "query_5_6 = '''\n",
        "SELECT\n",
        "  COUNT(DISTINCT e.id) AS employers\n",
        "FROM\n",
        "  employers AS e\n",
        "JOIN\n",
        "  employers_industries AS ei ON e.id = ei.employer_id\n",
        "  JOIN industries AS i ON ei.industry_id = i.id\n",
        "WHERE\n",
        "  i.name = 'Разработка программного обеспечения'\n",
        "'''"
      ]
    },
    {
      "cell_type": "code",
      "execution_count": null,
      "id": "H72qxWM0shPR",
      "metadata": {
        "id": "H72qxWM0shPR",
        "colab": {
          "base_uri": "https://localhost:8080/"
        },
        "outputId": "4ae0f217-b1c4-47c2-f8a1-f49384f95c7b"
      },
      "outputs": [
        {
          "output_type": "stream",
          "name": "stdout",
          "text": [
            "Работодателей в сфере разработки ПО: 3553\n"
          ]
        }
      ],
      "source": [
        "# результат запроса\n",
        "handle_request(query_5_6, 'Работодателей в сфере разработки ПО', lambda df: df['employers'][0])"
      ]
    },
    {
      "cell_type": "markdown",
      "id": "c893936b",
      "metadata": {
        "id": "c893936b"
      },
      "source": [
        "7. Для компании «Яндекс» выведите список [городов-миллионников](https://ru.wikipedia.org/wiki/%D0%93%D0%BE%D1%80%D0%BE%D0%B4%D0%B0-%D0%BC%D0%B8%D0%BB%D0%BB%D0%B8%D0%BE%D0%BD%D0%B5%D1%80%D1%8B_%D0%A0%D0%BE%D1%81%D1%81%D0%B8%D0%B8), в которых представлены вакансии компании, вместе с количеством вакансий в этих регионах. Также добавьте строку \"Total\" с общим количеством вакансий компании. Результат отсортируйте по возрастанию количества.\n",
        "\n",
        "    Если возникнут трудности с этим заданием, посмотрите материалы модуля 6.4 «Как получать данные из веб-источников и API»."
      ]
    },
    {
      "cell_type": "code",
      "execution_count": null,
      "id": "ZdfrL6gIs1Pn",
      "metadata": {
        "id": "ZdfrL6gIs1Pn"
      },
      "outputs": [],
      "source": [
        "# код для получения списка городов-милионников\n",
        "import requests\n",
        "from bs4 import BeautifulSoup\n",
        "\n",
        "def get_millionaire_cities() -> list:\n",
        "  '''\n",
        "  Парсит статью про города-миллионники в википедии.\n",
        "  Возвращает названия городов-миллионников в виде списка.\n",
        "  '''\n",
        "  url = 'https://ru.wikipedia.org/wiki/Города-миллионеры_России'\n",
        "  table_class = 'nowraplinks collapsible autocollapse navbox-inner'\n",
        "  response = requests.get(url)\n",
        "  soup = BeautifulSoup(response.text, 'html.parser')\n",
        "  table = soup.find('table', class_=table_class)\n",
        "  list_items = table.find_all('li')\n",
        "  result = []\n",
        "  for item in list_items:\n",
        "    link = item.find('a')\n",
        "    city = link.text.strip()\n",
        "    result.append(city)\n",
        "  return result"
      ]
    },
    {
      "cell_type": "code",
      "execution_count": null,
      "id": "5a0e32a4-e68a-4365-8a39-2fe24c542c36",
      "metadata": {
        "id": "5a0e32a4-e68a-4365-8a39-2fe24c542c36"
      },
      "outputs": [],
      "source": [
        "# текст запроса\n",
        "cities = get_millionaire_cities()\n",
        "\n",
        "query_5_7 = f'''\n",
        "(SELECT\n",
        "  a.name AS name,\n",
        "  COUNT(v.id) AS cnt\n",
        "FROM\n",
        "  areas AS a\n",
        "LEFT JOIN\n",
        "  vacancies AS v ON a.id = v.area_id\n",
        "LEFT JOIN\n",
        "  employers AS e ON v.employer_id = e.id\n",
        "WHERE\n",
        "  e.name = 'Яндекс' AND a.name IN {tuple(cities)}\n",
        "GROUP BY\n",
        "  a.name)\n",
        "\n",
        "UNION ALL\n",
        "\n",
        "(SELECT\n",
        "  'Total',\n",
        "  COUNT(v.id)\n",
        "FROM\n",
        "  areas AS a\n",
        "LEFT JOIN\n",
        "  vacancies AS v ON a.id = v.area_id\n",
        "LEFT JOIN\n",
        "  employers AS e ON v.employer_id = e.id\n",
        "WHERE\n",
        "  e.name = 'Яндекс' AND a.name IN {tuple(cities)})\n",
        "\n",
        "ORDER BY\n",
        "  cnt ASC\n",
        "'''"
      ]
    },
    {
      "cell_type": "code",
      "execution_count": null,
      "id": "ttPhiO1rsvPq",
      "metadata": {
        "id": "ttPhiO1rsvPq",
        "colab": {
          "base_uri": "https://localhost:8080/"
        },
        "outputId": "32a566ff-7079-4570-87fd-a7d989f73da0"
      },
      "outputs": [
        {
          "output_type": "stream",
          "name": "stdout",
          "text": [
            "               name  cnt\n",
            "0              Омск   21\n",
            "1         Челябинск   22\n",
            "2        Красноярск   23\n",
            "3         Волгоград   24\n",
            "4             Пермь   25\n",
            "5            Казань   25\n",
            "6    Ростов-на-Дону   25\n",
            "7               Уфа   26\n",
            "8            Самара   26\n",
            "9         Краснодар   30\n",
            "10          Воронеж   32\n",
            "11      Новосибирск   35\n",
            "12  Нижний Новгород   36\n",
            "13     Екатеринбург   39\n",
            "14  Санкт-Петербург   42\n",
            "15           Москва   54\n",
            "16            Total  485\n"
          ]
        }
      ],
      "source": [
        "# результат запроса\n",
        "handle_request(query_5_7)"
      ]
    },
    {
      "cell_type": "markdown",
      "id": "04966e40-3bc3-4dc8-9ba2-e80580ce3abc",
      "metadata": {
        "id": "04966e40-3bc3-4dc8-9ba2-e80580ce3abc"
      },
      "source": [
        "***"
      ]
    },
    {
      "cell_type": "code",
      "execution_count": null,
      "id": "aGGyER-yt4SR",
      "metadata": {
        "id": "aGGyER-yt4SR",
        "colab": {
          "base_uri": "https://localhost:8080/"
        },
        "outputId": "643f6a0f-429d-4a49-9fc4-bf7814f35fff"
      },
      "outputs": [
        {
          "output_type": "stream",
          "name": "stdout",
          "text": [
            "ВЫВОДЫ ПО АНАЛИЗУ РАБОТОДАТЕЛЕЙ \n",
            "\n",
            "\n",
            "Можно увидеть, что топовые работодателя (вроде Яндекса) могут опубликовать сотни вакансий\n",
            "(выше мы отмечали соотношение: 2 вакансии в среднем на 1 работодателя). \n",
            "Следовательно, многие работодатели пока еще вовсе не публикуют вакансии в этой сфере.\n",
            "Полагаю, она еще только начинает набирать обороты.\n",
            " \n",
            "Топ-10 сфер деятельности (по количеству вакансий):\n",
            "\n",
            "                                               СФЕРА  ВАКАНСИЙ\n",
            "0                Разработка программного обеспечения     12499\n",
            "1  Системная интеграция,  автоматизации технологи...     11034\n",
            "2  Интернет-компания (поисковики, платежные систе...      6413\n",
            "3                                               Банк      2742\n",
            "4                                    Мобильная связь      1585\n",
            "5                                 Кадровые агентства      1143\n",
            "6                              Консалтинговые услуги      1137\n",
            "7                                 Интернет-провайдер      1095\n",
            "8                       Розничная сеть (продуктовая)      1034\n",
            "9                                Фиксированная связь      1028\n",
            "      \n",
            "Как видно, в данный момент в плане интереса к дата саенс резко доминируют\n",
            "IT направления (а также близкие к ним). \n",
            "Не смотря на огромную широту возможного применения дата майнинга, \n",
            "в ближайшем будущем это будет так или иначе работа в айти компании.\n",
            "\n"
          ]
        }
      ],
      "source": [
        "# выводы по анализу работодателей\n",
        "print('ВЫВОДЫ ПО АНАЛИЗУ РАБОТОДАТЕЛЕЙ \\n\\n')\n",
        "\n",
        "\n",
        "# 1. Вывод о концентрации вакансий среди топовых работодателей\n",
        "\n",
        "print('''Можно увидеть, что топовые работодателя (вроде Яндекса) могут опубликовать сотни вакансий\n",
        "(выше мы отмечали соотношение: 2 вакансии в среднем на 1 работодателя).\n",
        "Следовательно, многие работодатели пока еще вовсе не публикуют вакансии в этой сфере.\n",
        "Полагаю, она еще только начинает набирать обороты.''')\n",
        "\n",
        "\n",
        "# 2.\n",
        "top_ind = '''\n",
        "SELECT i.name AS \"СФЕРА\", COUNT(v.id) AS \"ВАКАНСИЙ\"\n",
        "FROM industries i\n",
        "JOIN employers_industries ei ON i.id = ei.industry_id\n",
        "JOIN employers e ON ei.employer_id = e.id\n",
        "JOIN vacancies v ON e.id = v.employer_id\n",
        "GROUP BY i.name\n",
        "ORDER BY COUNT(v.id) DESC\n",
        "LIMIT 10\n",
        "'''\n",
        "top_ind = request(top_ind)\n",
        "print(f'''\n",
        "Топ-10 сфер деятельности (по количеству вакансий):\\n\n",
        "{top_ind}\n",
        "\n",
        "Как видно, в данный момент в плане интереса к дата саенс резко доминируют\n",
        "IT направления (а также близкие к ним).\n",
        "Не смотря на огромную широту возможного применения дата майнинга,\n",
        "в ближайшем будущем это будет так или иначе работа в айти компании.\n",
        "''')\n"
      ]
    },
    {
      "cell_type": "markdown",
      "id": "b1ef156a-efcb-49ce-bb23-90763e7f35b2",
      "metadata": {
        "id": "b1ef156a-efcb-49ce-bb23-90763e7f35b2",
        "tags": []
      },
      "source": [
        "## 6. Предметный анализ"
      ]
    },
    {
      "cell_type": "markdown",
      "id": "b9cd50a0-992d-4988-8463-2b2b1c4629b4",
      "metadata": {
        "id": "b9cd50a0-992d-4988-8463-2b2b1c4629b4"
      },
      "source": [
        "1. Сколько вакансий имеет отношение к данным?\n",
        "\n",
        "    Считаем, что вакансия имеет отношение к данным, если в её названии содержатся слова `'data'` или `'данн'`.\n",
        "\n",
        "    *Обратите внимание, что названия вакансий могут быть написаны в любом регистре.*\n"
      ]
    },
    {
      "cell_type": "code",
      "execution_count": null,
      "id": "54ab0e50-c0f1-47cc-a54b-bc5c8bc363f9",
      "metadata": {
        "id": "54ab0e50-c0f1-47cc-a54b-bc5c8bc363f9"
      },
      "outputs": [],
      "source": [
        "# текст запроса\n",
        "query_6_1 = '''\n",
        "SELECT\n",
        "  COUNT(*) AS cnt\n",
        "FROM\n",
        "  vacancies\n",
        "WHERE\n",
        "  LOWER(name) LIKE '%data%' OR LOWER(name) LIKE '%данн%'\n",
        "'''"
      ]
    },
    {
      "cell_type": "code",
      "execution_count": null,
      "id": "9F1meAqsuUjd",
      "metadata": {
        "id": "9F1meAqsuUjd",
        "colab": {
          "base_uri": "https://localhost:8080/"
        },
        "outputId": "74daea10-adee-4f3b-9eea-44117dbd3c67"
      },
      "outputs": [
        {
          "output_type": "stream",
          "name": "stdout",
          "text": [
            "\"Data\"-вакансий: 1771\n"
          ]
        }
      ],
      "source": [
        "# результат запроса\n",
        "handle_request(query_6_1, '\"Data\"-вакансий', lambda df: df['cnt'][0])"
      ]
    },
    {
      "cell_type": "markdown",
      "id": "4dea20cb-a36b-474a-a0b9-e08e8e3857a5",
      "metadata": {
        "id": "4dea20cb-a36b-474a-a0b9-e08e8e3857a5"
      },
      "source": [
        "2. Сколько есть подходящих вакансий для начинающего дата-сайентиста? Будем считать вакансиями для дата-сайентистов такие, в названии которых есть хотя бы одно из следующих сочетаний:\n",
        "    * 'data scientist'\n",
        "    * 'data science'\n",
        "    * 'исследователь данных'\n",
        "    * 'ML' (здесь не нужно брать вакансии по HTML)\n",
        "    * 'machine learning'\n",
        "    * 'машинн%обучен%'\n",
        "\n",
        "    **В следующих заданиях мы продолжим работать с вакансиями по этому условию.**\n",
        "\n",
        "    Считаем вакансиями для специалистов уровня Junior следующие:\n",
        "    + в названии есть слово “junior” **или**\n",
        "    + требуемый опыт — «Нет опыта» **или**\n",
        "    + тип трудоустройства — «Стажировка».\n"
      ]
    },
    {
      "cell_type": "code",
      "source": [
        "data_filter = '''\n",
        "LOWER(name) LIKE '%data scientist%' OR\n",
        "LOWER(name) LIKE '%data science%' OR\n",
        "LOWER(name) LIKE '%исследователь данных%' OR\n",
        "(LOWER(name) LIKE '%ml%' AND LOWER(name) NOT LIKE '%html%') OR\n",
        "LOWER(name) LIKE '%machine learning%' OR\n",
        "LOWER(name) LIKE '%машинн%обучен%'\n",
        "'''"
      ],
      "metadata": {
        "id": "cAcgxgEovWMq"
      },
      "id": "cAcgxgEovWMq",
      "execution_count": null,
      "outputs": []
    },
    {
      "cell_type": "code",
      "execution_count": null,
      "id": "9c61b3c0-bb66-46c9-ae1e-81d3f5752b4a",
      "metadata": {
        "id": "9c61b3c0-bb66-46c9-ae1e-81d3f5752b4a"
      },
      "outputs": [],
      "source": [
        "# текст запроса\n",
        "query_6_2 = f'''\n",
        "SELECT\n",
        "  COUNT(*) AS cnt\n",
        "FROM vacancies\n",
        "WHERE\n",
        "  ({data_filter}) AND\n",
        "  (LOWER(name) LIKE '%junior%' OR experience = 'Нет опыта' OR employment = 'Стажировка')\n",
        "'''"
      ]
    },
    {
      "cell_type": "code",
      "execution_count": null,
      "id": "ZNM-LLYuu1dj",
      "metadata": {
        "id": "ZNM-LLYuu1dj",
        "colab": {
          "base_uri": "https://localhost:8080/"
        },
        "outputId": "23f2b9ec-2402-462f-bbc9-0928aec7f9dc"
      },
      "outputs": [
        {
          "output_type": "stream",
          "name": "stdout",
          "text": [
            "Junior-вакансий: 51\n"
          ]
        }
      ],
      "source": [
        "# результат запроса\n",
        "handle_request(query_6_2, 'Junior-вакансий', lambda df: df['cnt'][0])"
      ]
    },
    {
      "cell_type": "markdown",
      "id": "eedceb80-c5ca-480e-b27a-278dfb8b4438",
      "metadata": {
        "id": "eedceb80-c5ca-480e-b27a-278dfb8b4438"
      },
      "source": [
        "3. Сколько есть вакансий для DS, в которых в качестве ключевого навыка указан SQL или Postgres?\n",
        "\n",
        "    *Критерии для отнесения вакансии к DS указаны в предыдущем задании.*"
      ]
    },
    {
      "cell_type": "code",
      "execution_count": null,
      "id": "69621713-0cc5-4f1b-a1d7-bb144fa6148c",
      "metadata": {
        "id": "69621713-0cc5-4f1b-a1d7-bb144fa6148c"
      },
      "outputs": [],
      "source": [
        "# текст запроса\n",
        "query_6_3 = f'''\n",
        "SELECT\n",
        "  COUNT(*) AS cnt\n",
        "FROM\n",
        "  vacancies\n",
        "WHERE\n",
        "  ({data_filter})\n",
        "  AND (LOWER(key_skills) LIKE '%sql%' OR LOWER(key_skills) LIKE '%postgres%')\n",
        "'''"
      ]
    },
    {
      "cell_type": "code",
      "execution_count": null,
      "id": "alA8WEAAvGdf",
      "metadata": {
        "id": "alA8WEAAvGdf",
        "colab": {
          "base_uri": "https://localhost:8080/"
        },
        "outputId": "3976554c-188c-472b-e5cf-59b329554360"
      },
      "outputs": [
        {
          "output_type": "stream",
          "name": "stdout",
          "text": [
            "SQL-вакансий: 229\n"
          ]
        }
      ],
      "source": [
        "# результат запроса\n",
        "handle_request(query_6_3, 'SQL-вакансий', lambda df: df['cnt'][0])"
      ]
    },
    {
      "cell_type": "markdown",
      "id": "1be1e9c6-37cf-4a5f-bfeb-04cab799dc80",
      "metadata": {
        "id": "1be1e9c6-37cf-4a5f-bfeb-04cab799dc80"
      },
      "source": [
        "4. Проверьте, насколько популярен Python в требованиях работодателей к DS. Для этого вычислите количество вакансий, в которых в качестве ключевого навыка указан Python.\n",
        "\n",
        "    *Это можно сделать помощью запроса, аналогичного предыдущему.*"
      ]
    },
    {
      "cell_type": "code",
      "execution_count": null,
      "id": "0036a355-9ccf-4564-8b01-73d8194297e7",
      "metadata": {
        "id": "0036a355-9ccf-4564-8b01-73d8194297e7"
      },
      "outputs": [],
      "source": [
        "# текст запроса\n",
        "query_6_4 = f'''\n",
        "SELECT\n",
        "  COUNT(*) AS cnt\n",
        "FROM\n",
        "  vacancies\n",
        "WHERE\n",
        "  ({data_filter}) AND LOWER(key_skills) LIKE '%python%'\n",
        "'''"
      ]
    },
    {
      "cell_type": "code",
      "execution_count": null,
      "id": "1i-5WyucvQ6v",
      "metadata": {
        "id": "1i-5WyucvQ6v",
        "colab": {
          "base_uri": "https://localhost:8080/"
        },
        "outputId": "6d757c66-2e58-48ff-cef9-583485e46781"
      },
      "outputs": [
        {
          "output_type": "stream",
          "name": "stdout",
          "text": [
            " Python-вакансий: 357\n"
          ]
        }
      ],
      "source": [
        "# результат запроса\n",
        "handle_request(query_6_4, ' Python-вакансий', lambda df: df['cnt'][0])"
      ]
    },
    {
      "cell_type": "markdown",
      "id": "ec3c8db7-fa21-4a41-a994-1af63742a642",
      "metadata": {
        "id": "ec3c8db7-fa21-4a41-a994-1af63742a642"
      },
      "source": [
        "5. Сколько ключевых навыков в среднем указывают в вакансиях для DS?\n",
        "Ответ округлите до **двух знаков после точки-разделителя**."
      ]
    },
    {
      "cell_type": "code",
      "execution_count": null,
      "id": "949132bc-d5b6-4611-8218-0b9a504d74f4",
      "metadata": {
        "id": "949132bc-d5b6-4611-8218-0b9a504d74f4"
      },
      "outputs": [],
      "source": [
        "# К сожалению, в системе проверки заданий ошибки: в разных заданиях требуется\n",
        "# разный вид фильтра \"LOWER(name) LIKE '%ml%'\", поэтому пришлось переопределить\n",
        "# для данного кейса переменную data_filter, чтобы получить ожидаемый ответ\n",
        "data_filter_2 = '''\n",
        "LOWER(name) LIKE '%data scientist%' OR\n",
        "LOWER(name) LIKE '%data science%' OR\n",
        "LOWER(name) LIKE '%исследователь данных%' OR\n",
        "(LOWER(name) LIKE '% ml%' AND LOWER(name) NOT LIKE '%html%') OR\n",
        "LOWER(name) LIKE '%machine learning%' OR\n",
        "LOWER(name) LIKE '%машинн%обучен%'\n",
        "'''\n",
        "\n",
        "# текст запроса\n",
        "query_6_5 = f'''\n",
        "SELECT\n",
        "  AVG(LENGTH(key_skills) - LENGTH(REPLACE(key_skills, '\t', '')) + 1) AS cnt\n",
        "FROM\n",
        "  vacancies\n",
        "WHERE\n",
        "  ({data_filter_2}) AND key_skills IS NOT NULL;\n",
        "'''"
      ]
    },
    {
      "cell_type": "code",
      "execution_count": null,
      "id": "a3V24Tvmviqk",
      "metadata": {
        "id": "a3V24Tvmviqk",
        "colab": {
          "base_uri": "https://localhost:8080/"
        },
        "outputId": "d3307e50-a958-4fd9-c9da-12028f9cbe83"
      },
      "outputs": [
        {
          "output_type": "stream",
          "name": "stdout",
          "text": [
            "Ключевых навыков в среднем: 6.41\n"
          ]
        }
      ],
      "source": [
        "# результат запроса\n",
        "handle_request(query_6_5, 'Ключевых навыков в среднем', lambda df: round(df['cnt'][0], 2))"
      ]
    },
    {
      "cell_type": "markdown",
      "id": "1041c17a-ca8f-4543-a0ca-32778914fb00",
      "metadata": {
        "id": "1041c17a-ca8f-4543-a0ca-32778914fb00"
      },
      "source": [
        "6. Напишите запрос, позволяющий вычислить, какую зарплату для DS в среднем указывают для каждого типа требуемого опыта (уникальное значение из поля `experience`).\n",
        "\n",
        "    При решении задачи примите во внимание следующее:\n",
        "    1. Рассматриваем только вакансии, у которых заполнено хотя бы одно из двух полей с зарплатой.\n",
        "    2. Если заполнены оба поля с зарплатой, то считаем зарплату по каждой вакансии как сумму двух полей, делённую на 2. Если заполнено только одно из полей, то его и считаем зарплатой по вакансии.\n",
        "    3. Если в расчётах участвует `null`, в результате он тоже даст `null` (посмотрите, что возвращает запрос `select 1 + null`). Чтобы избежать этой ситуацию, мы воспользуемся функцией [coalesce](https://postgrespro.ru/docs/postgresql/9.5/functions-conditional#functions-coalesce-nvl-ifnull), которая заменит `null` на значение, которое мы передадим. Например, посмотрите, что возвращает запрос `select 1 + coalesce(null, 0)`\n",
        "\n",
        "    Выясните, на какую зарплату в среднем может рассчитывать дата-сайентист с опытом работы от 3 до 6 лет. Результат округлите до **целого числа**."
      ]
    },
    {
      "cell_type": "code",
      "execution_count": null,
      "id": "6a743d39-5204-48d3-8271-b9f88e68d40e",
      "metadata": {
        "id": "6a743d39-5204-48d3-8271-b9f88e68d40e"
      },
      "outputs": [],
      "source": [
        "# К сожалению, в системе проверки заданий ошибки: в разных заданиях требуется\n",
        "# разный вид фильтра \"LOWER(name) LIKE '%ml%'\", поэтому пришлось переопределить\n",
        "# для данного кейса переменную data_filter, чтобы получить ожидаемый ответ\n",
        "data_filter_2 = '''\n",
        "LOWER(name) LIKE '%data scientist%' OR\n",
        "LOWER(name) LIKE '%data science%' OR\n",
        "LOWER(name) LIKE '%исследователь данных%' OR\n",
        "(name LIKE '%ML%' AND LOWER(name) NOT LIKE '%html%') OR\n",
        "LOWER(name) LIKE '%machine learning%' OR\n",
        "LOWER(name) LIKE '%машинн%обучен%'\n",
        "'''\n",
        "\n",
        "# текст запроса\n",
        "query_6_6 = f'''\n",
        "SELECT\n",
        "  experience as exp,\n",
        "  AVG((COALESCE(salary_from, 0) + COALESCE(salary_to, 0)) / NULLIF((salary_from IS NOT NULL)::int + (salary_to IS NOT NULL)::int, 0)) AS salary\n",
        "FROM\n",
        "  vacancies\n",
        "WHERE\n",
        "  {data_filter_2} AND (salary_from IS NOT NULL OR salary_to IS NOT NULL) AND experience = 'От 3 до 6 лет'\n",
        "GROUP BY\n",
        "  exp\n",
        "'''\n"
      ]
    },
    {
      "cell_type": "code",
      "execution_count": null,
      "id": "aRIJ0mZEwU1_",
      "metadata": {
        "id": "aRIJ0mZEwU1_",
        "colab": {
          "base_uri": "https://localhost:8080/"
        },
        "outputId": "a8719b55-d414-4451-a635-005db767a2da"
      },
      "outputs": [
        {
          "output_type": "stream",
          "name": "stdout",
          "text": [
            "Зарплата при опыте 3-6 лет: 243115\n"
          ]
        }
      ],
      "source": [
        "# результат запроса\n",
        "handle_request(query_6_6, 'Зарплата при опыте 3-6 лет', lambda df: int(round(df['salary'][3], 0)))"
      ]
    },
    {
      "cell_type": "markdown",
      "id": "6a7892b4-4113-4746-adce-18aa2844f18e",
      "metadata": {
        "id": "6a7892b4-4113-4746-adce-18aa2844f18e"
      },
      "source": [
        "***"
      ]
    },
    {
      "cell_type": "code",
      "execution_count": null,
      "id": "UjLWUptVwY1o",
      "metadata": {
        "id": "UjLWUptVwY1o",
        "colab": {
          "base_uri": "https://localhost:8080/"
        },
        "outputId": "1db0ab67-816a-4117-c405-418bcf3bf6cb"
      },
      "outputs": [
        {
          "output_type": "stream",
          "name": "stdout",
          "text": [
            "ВЫВОДЫ ПО ПРЕДМЕТНОМУ АНАЛИЗУ \n",
            "\n",
            "\n",
            "\n",
            "Предметный анализ заставляет меня скорректировать сделанные ранее выводы.\n",
            "Как видим, непосредственно к работе с данными относится небольшой процент вакансий.\n",
            "Следовательно, мы анализировали выборку из IT сферы в целом, а значит и выводы, \n",
            "которыми я охарактеризовал дата саенс, следует распространить на всю сферу (если выборка корректная).\n",
            "\n",
            "Ранее сделанные выводы: относительно низкие требовния к уровню квалификации, \n",
            "низкая распространенность удаленной работы, невысокие средние зарплаты, \n",
            "малое количество вакансий в городах, не относящихся к числу миллионников, \n",
            "- все это говорит скорее о том, что в выборку попало несколько молодых \n",
            "развивающихся направлений (помимо дата саенс), и что, вероятно, \n",
            "IT сфера пока не достигла своего пика.\n",
            "\n",
            "Альтернативный вывод: действительно \"вкусные\" вакансии не публикуются на ресурсах\n",
            "вроде hh.ru, и компании предпочитают \"ручной\" хантинг. И соответственно, зарплаты\n",
            "в таких компаниях также не публикуются в открытом доступе.\n",
            "\n"
          ]
        }
      ],
      "source": [
        "# выводы по предметному анализу\n",
        "print('ВЫВОДЫ ПО ПРЕДМЕТНОМУ АНАЛИЗУ \\n\\n')\n",
        "\n",
        "\n",
        "print('''\n",
        "Предметный анализ заставляет меня скорректировать сделанные ранее выводы.\n",
        "Как видим, непосредственно к работе с данными относится небольшой процент вакансий.\n",
        "Следовательно, мы анализировали выборку из IT сферы в целом, а значит и выводы,\n",
        "которыми я охарактеризовал дата саенс, следует распространить на всю сферу (если выборка корректная).\n",
        "\n",
        "Ранее сделанные выводы: относительно низкие требовния к уровню квалификации,\n",
        "низкая распространенность удаленной работы, невысокие средние зарплаты,\n",
        "малое количество вакансий в городах, не относящихся к числу миллионников,\n",
        "- все это говорит скорее о том, что в выборку попало несколько молодых\n",
        "развивающихся направлений (помимо дата саенс), и что, вероятно,\n",
        "IT сфера пока не достигла своего пика.\n",
        "\n",
        "Альтернативный вывод: действительно \"вкусные\" вакансии не публикуются на ресурсах\n",
        "вроде hh.ru, и компании предпочитают \"ручной\" хантинг. И соответственно, зарплаты\n",
        "в таких компаниях также не публикуются в открытом доступе.\n",
        "''')"
      ]
    },
    {
      "cell_type": "markdown",
      "id": "c0ED6fh7wiBT",
      "metadata": {
        "id": "c0ED6fh7wiBT"
      },
      "source": [
        "## Общий вывод по проекту"
      ]
    },
    {
      "cell_type": "code",
      "execution_count": null,
      "id": "h9B3BL-wwj18",
      "metadata": {
        "id": "h9B3BL-wwj18",
        "colab": {
          "base_uri": "https://localhost:8080/"
        },
        "outputId": "f3fa3fa7-0214-402d-d92f-3b3f9b0dbdcd"
      },
      "outputs": [
        {
          "output_type": "stream",
          "name": "stdout",
          "text": [
            "ОБЩИЙ ВЫВОД ПО ПРОЕКТУ \n",
            "\n",
            "\n",
            "\n",
            "1. Общая картина рынка труда.\n",
            "Данные демонстрируют, что рынок вакансий сосредоточен в крупных городах (столицы и миллионники). \n",
            "Значительное количество регионов практически не представлено на рынке труда, \n",
            "что говорит о дисбалансе в географическом распределении вакансий. \n",
            "Сферы деятельности охватывают широкий спектр направлений (294), \n",
            "но подавляющее большинство вакансий относится к IT и смежным отраслям.\n",
            "\n",
            "2. Детальный анализ вакансий. \n",
            "Средняя зарплата варьируется в зависимости от региона и уровня опыта, \n",
            "при этом лидерами по оплате труда являются зарубежные страны. \n",
            "Большинство вакансий рассчитано на специалистов с опытом от 1 до 3 лет, \n",
            "что указывает на высокий спрос на начинающих сотрудников. \n",
            "Удаленная работа набирает популярность, но офисный формат все еще остается доминирующим \n",
            "(что естественно для начальных позиций).\n",
            "Вакансии с указанной зарплатой составляют около половины от общего числа, \n",
            "что свидетельствует о средней прозрачности рынка.\n",
            "\n",
            "3. Особенности IT-сферы и Data Science. \n",
            "Несмотря на общее разнообразие вакансий в IT-сфере, работа с данными (Data Science) \n",
            "занимает относительно небольшую долю. Это может быть связано с тем, что направление \n",
            "Data Science остается узкоспециализированным и молодым. \n",
            "Тем не менее, IT-сфера в целом демонстрирует значительный потенциал для роста, \n",
            "что подтверждается наличием крупных работодателей (например, Яндекс, публикующий сотни вакансий). \n",
            "Вероятно, в ближайшие годы рынок продолжит развиваться и расти.\n",
            "\n",
            "4. На данном этапе выводы носят характер гипотез и предположений.\n",
            "Для их дальнейшего развития и проверки гипотез на этапе разведывательного \n",
            "анализа данных необходимо сосредоточиться на более детальном изучении датасета. \n",
            "В том числе, стоит глубже исследовать взаимосвязи между различными характеристиками вакансий, \n",
            "такими как уровень зарплаты, требуемый опыт работы и популярные ключевые навыки. \n",
            "Также стоит обратить внимание на пропущенные данные и аномалии, такие как вакансии без указания \n",
            "зарплаты или некорректные значения, что позволит улучшить качество данных для последующего анализа.\n",
            "А проделанный анализ пока можно назвать лишь ознакомительным, \n",
            "цель которого - определение путей дальнейшего анализа.\n",
            "\n"
          ]
        }
      ],
      "source": [
        "# подведем итог исследования, обобщите выводы\n",
        "# здесь можно (это будет плюсом) провести дополнительные исследования данных, сделать прогнозы, продумать варианты продолжения исследования\n",
        "print('ОБЩИЙ ВЫВОД ПО ПРОЕКТУ \\n\\n')\n",
        "\n",
        "\n",
        "print('''\n",
        "1. Общая картина рынка труда.\n",
        "Данные демонстрируют, что рынок вакансий сосредоточен в крупных городах (столицы и миллионники).\n",
        "Значительное количество регионов практически не представлено на рынке труда,\n",
        "что говорит о дисбалансе в географическом распределении вакансий.\n",
        "Сферы деятельности охватывают широкий спектр направлений (294),\n",
        "но подавляющее большинство вакансий относится к IT и смежным отраслям.\n",
        "\n",
        "2. Детальный анализ вакансий.\n",
        "Средняя зарплата варьируется в зависимости от региона и уровня опыта,\n",
        "при этом лидерами по оплате труда являются зарубежные страны.\n",
        "Большинство вакансий рассчитано на специалистов с опытом от 1 до 3 лет,\n",
        "что указывает на высокий спрос на начинающих сотрудников.\n",
        "Удаленная работа набирает популярность, но офисный формат все еще остается доминирующим\n",
        "(что естественно для начальных позиций).\n",
        "Вакансии с указанной зарплатой составляют около половины от общего числа,\n",
        "что свидетельствует о средней прозрачности рынка.\n",
        "\n",
        "3. Особенности IT-сферы и Data Science.\n",
        "Несмотря на общее разнообразие вакансий в IT-сфере, работа с данными (Data Science)\n",
        "занимает относительно небольшую долю. Это может быть связано с тем, что направление\n",
        "Data Science остается узкоспециализированным и молодым.\n",
        "Тем не менее, IT-сфера в целом демонстрирует значительный потенциал для роста,\n",
        "что подтверждается наличием крупных работодателей (например, Яндекс, публикующий сотни вакансий).\n",
        "Вероятно, в ближайшие годы рынок продолжит развиваться и расти.\n",
        "\n",
        "4. На данном этапе выводы носят характер гипотез и предположений.\n",
        "Для их дальнейшего развития и проверки гипотез на этапе разведывательного\n",
        "анализа данных необходимо сосредоточиться на более детальном изучении датасета.\n",
        "В том числе, стоит глубже исследовать взаимосвязи между различными характеристиками вакансий,\n",
        "такими как уровень зарплаты, требуемый опыт работы и популярные ключевые навыки.\n",
        "Также стоит обратить внимание на пропущенные данные и аномалии, такие как вакансии без указания\n",
        "зарплаты или некорректные значения, что позволит улучшить качество данных для последующего анализа.\n",
        "А проделанный анализ пока можно назвать лишь ознакомительным,\n",
        "цель которого - определение путей дальнейшего анализа.\n",
        "''')"
      ]
    }
  ],
  "metadata": {
    "colab": {
      "provenance": []
    },
    "kernelspec": {
      "display_name": "Python 3 (ipykernel)",
      "language": "python",
      "name": "python3"
    },
    "language_info": {
      "codemirror_mode": {
        "name": "ipython",
        "version": 3
      },
      "file_extension": ".py",
      "mimetype": "text/x-python",
      "name": "python",
      "nbconvert_exporter": "python",
      "pygments_lexer": "ipython3",
      "version": "3.9.7"
    }
  },
  "nbformat": 4,
  "nbformat_minor": 5
}